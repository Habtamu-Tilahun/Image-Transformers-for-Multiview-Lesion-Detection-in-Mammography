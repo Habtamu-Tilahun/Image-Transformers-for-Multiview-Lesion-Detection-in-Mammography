{
 "cells": [
  {
   "cell_type": "code",
   "execution_count": 10,
   "metadata": {},
   "outputs": [],
   "source": [
    "import pandas as pd\n",
    "from sklearn.model_selection import train_test_split"
   ]
  },
  {
   "attachments": {},
   "cell_type": "markdown",
   "metadata": {},
   "source": [
    "Training-validation set split"
   ]
  },
  {
   "cell_type": "code",
   "execution_count": 11,
   "metadata": {},
   "outputs": [
    {
     "name": "stdout",
     "output_type": "stream",
     "text": [
      "Total number of images: 3288\n",
      "Number of unique patients: 1649\n",
      "Patient with more than one image: 1639\n",
      "Total number of images of duplicated patient: 3278\n",
      "Patient with only one image: 10\n",
      "Number of training patients with more than one image 1310\n",
      "Number of validation patients with more than one image 329\n",
      "Total number of training patients 1320\n",
      "Number of images of duplicated patient in the training set: 2620\n",
      "Number of images in the testing set: 658\n",
      "Total number of images in the training set: 2630\n"
     ]
    }
   ],
   "source": [
    "df_lesion = pd.read_csv('lesion_case.csv')\n",
    "print ('Total number of images:', len(df_lesion))\n",
    "print('Number of unique patients:',df_lesion['client'].nunique())\n",
    "df_duplicated_client = df_lesion[df_lesion['client'].duplicated() == True]\n",
    "print('Patient with more than one image:', len(df_duplicated_client))\n",
    "df_rows_with_duplicated_client = df_lesion[df_lesion['client'].duplicated(keep=False)]\n",
    "print('Total number of images of duplicated patient:', len(df_rows_with_duplicated_client))\n",
    "\n",
    "# Count the frequency of values in column 'client'\n",
    "counts = df_lesion['client'].value_counts() \n",
    "\n",
    "# Select only the rows where the count is equal to 1\n",
    "df_client_with_single_image = df_lesion[df_lesion['client'].isin(counts[counts == 1].index)] \n",
    "print('Patient with only one image:', len(df_client_with_single_image))\n",
    "\n",
    "# Since 10 images will be added to the training_set, we set the percentage of the validation_set to 20.07%\n",
    "training_clients, validation_clients = train_test_split(df_duplicated_client, test_size=0.2007)\n",
    "\n",
    "training_set = df_rows_with_duplicated_client[df_rows_with_duplicated_client['client'].isin(training_clients['client'])]\n",
    "validation_set = df_rows_with_duplicated_client[df_rows_with_duplicated_client['client'].isin(validation_clients['client'])]\n",
    "\n",
    "print('Number of training patients with more than one image', len(training_clients))\n",
    "print('Number of validation patients with more than one image', len(validation_clients))\n",
    "print('Total number of training patients', len(training_clients) + len(df_client_with_single_image))\n",
    "print('Number of images of duplicated patient in the training set:', len(training_set))\n",
    "print('Number of images in the testing set:', len(validation_set))\n",
    "\n",
    "frames = [training_set, df_client_with_single_image]\n",
    "total_training_set = pd.concat(frames)\n",
    "print(\"Total number of images in the training set:\", len(total_training_set))\n",
    "total_training_set.to_csv(\"lesion_training_set.csv\",index=False)\n",
    "validation_set.to_csv(\"lesion_validation_set.csv\", index=False)"
   ]
  },
  {
   "attachments": {},
   "cell_type": "markdown",
   "metadata": {},
   "source": [
    "Cross-check if the same patient appears on both training and validation set"
   ]
  },
  {
   "cell_type": "code",
   "execution_count": 12,
   "metadata": {},
   "outputs": [
    {
     "name": "stdout",
     "output_type": "stream",
     "text": [
      "2630\n",
      "658\n"
     ]
    }
   ],
   "source": [
    "df_training = pd.read_csv('lesion_training_set.csv')\n",
    "df_validation = pd.read_csv('lesion_validation_set.csv')\n",
    "print(len(df_training))\n",
    "print(len(df_validation))"
   ]
  },
  {
   "cell_type": "code",
   "execution_count": 15,
   "metadata": {},
   "outputs": [],
   "source": [
    "n=0\n",
    "for idx_val, row_val in df_validation.iterrows():\n",
    "    for idx_train, row_train in df_training.iterrows():\n",
    "        if row_val['client'] == row_train['client']:\n",
    "            n = n + 1"
   ]
  },
  {
   "cell_type": "code",
   "execution_count": 16,
   "metadata": {},
   "outputs": [
    {
     "name": "stdout",
     "output_type": "stream",
     "text": [
      "0\n"
     ]
    }
   ],
   "source": [
    "print(n)"
   ]
  }
 ],
 "metadata": {
  "kernelspec": {
   "display_name": "habtamukernel",
   "language": "python",
   "name": "habtamukernel"
  },
  "language_info": {
   "codemirror_mode": {
    "name": "ipython",
    "version": 3
   },
   "file_extension": ".py",
   "mimetype": "text/x-python",
   "name": "python",
   "nbconvert_exporter": "python",
   "pygments_lexer": "ipython3",
   "version": "3.10.9"
  },
  "orig_nbformat": 4
 },
 "nbformat": 4,
 "nbformat_minor": 2
}
