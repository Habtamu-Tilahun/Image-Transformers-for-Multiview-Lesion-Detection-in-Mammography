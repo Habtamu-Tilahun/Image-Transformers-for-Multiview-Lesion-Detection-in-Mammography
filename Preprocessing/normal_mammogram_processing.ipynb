{
 "cells": [
  {
   "cell_type": "code",
   "execution_count": 12,
   "metadata": {},
   "outputs": [],
   "source": [
    "# Imports\n",
    "import pandas as pd\n",
    "import os\n",
    "import pydicom\n",
    "import numpy as np\n",
    "import cv2\n",
    "import omidb"
   ]
  },
  {
   "attachments": {},
   "cell_type": "markdown",
   "metadata": {},
   "source": [
    "DICOM to PNG Conversion"
   ]
  },
  {
   "cell_type": "code",
   "execution_count": null,
   "metadata": {},
   "outputs": [],
   "source": [
    "# Read the csv file\n",
    "contralateral_case = pd.read_csv('contralateral_case.csv')\n",
    "\n",
    "# Drop the 'fov_type' column\n",
    "contralateral_case = contralateral_case.drop('fov_type', axis=1)\n",
    "\n",
    "# Add filename column\n",
    "contralateral_case['filename'] = None\n",
    "\n",
    "for idx, row in contralateral_case.iterrows():\n",
    "    # Get image name\n",
    "    file_path_splitted = row['path'].split('/')\n",
    "    image_name = file_path_splitted[11]\n",
    "    \n",
    "    # Read DICOM image\n",
    "    dicom_image = pydicom.dcmread(row['path'])\n",
    "    \n",
    "    # Extract image specifications\n",
    "    window_center = float(dicom_image.WindowCenter)\n",
    "    window_width = float(dicom_image.WindowWidth)\n",
    "    rescale_intercept = int(dicom_image.RescaleIntercept)\n",
    "    rescale_slope = int(dicom_image.RescaleSlope)\n",
    "    \n",
    "    # Rescale the image using slope and intercept\n",
    "    img = dicom_image.pixel_array.astype(float) * rescale_slope + rescale_intercept\n",
    "\n",
    "    # Apply the window center and width\n",
    "    img_min = window_center - (window_width / 2.0)\n",
    "    img_max = window_center + (window_width / 2.0)\n",
    "    img[img < img_min] = img_min\n",
    "    img[img > img_max] = img_max\n",
    "\n",
    "    # Normalize pixel values to [0, 255]\n",
    "    img = (img - img_min) / (img_max - img_min)\n",
    "    img = (img * 255).astype(np.uint8)\n",
    "\n",
    "    # Save the image as a PNG file with the same name as the DICOM image in the converted subfolder\n",
    "    png_image_name = image_name.replace(\".dcm\", \".png\")\n",
    "    png_image_path = os.path.join('contralateral_images', png_image_name)\n",
    "    if row['image_laterality'] == 'R':\n",
    "        img = cv2.flip(img, 1)\n",
    "    cv2.imwrite(png_image_path, img)\n",
    "    contralateral_case.at[idx, 'filename'] = png_image_name\n",
    "contralateral_case.to_csv(\"contralateral_case_with_filename.csv\", index=False)"
   ]
  },
  {
   "attachments": {},
   "cell_type": "markdown",
   "metadata": {},
   "source": [
    "Crop Background"
   ]
  },
  {
   "cell_type": "code",
   "execution_count": null,
   "metadata": {},
   "outputs": [],
   "source": [
    "reading_path = 'contralateral_images'\n",
    "csv_path = 'contralateral_case_with_filename.csv'\n",
    "output_path = 'cropped_contralateral_images'"
   ]
  },
  {
   "cell_type": "code",
   "execution_count": null,
   "metadata": {},
   "outputs": [],
   "source": [
    "def get_normal_BBox(image):\n",
    "    img = cv2.threshold(image, 0, 255, cv2.THRESH_BINARY)[1]\n",
    "    nb_components, output, stats, centroids = cv2.connectedComponentsWithStats(img, connectivity=4)\n",
    "    sizes = stats[:, -1]\n",
    "    max_label = 1\n",
    "    max_size = sizes[1]\n",
    "    for i in range(2, nb_components):\n",
    "        if sizes[i] > max_size:\n",
    "            max_label = i\n",
    "            max_size = sizes[i]\n",
    "    img2 = np.zeros(output.shape,dtype=np.uint8)\n",
    "    img2[output == max_label] = 255\n",
    "    contours, hierarchy = cv2.findContours(img2,cv2.RETR_TREE,cv2.CHAIN_APPROX_NONE)\n",
    "    cnt = contours[0]\n",
    "    aux_im = img2\n",
    "    x,y,w,h = cv2.boundingRect(cnt)\n",
    "    cv2.rectangle(aux_im,(x,y),(x+w,y+h),(255,0,0),5)\n",
    "    out_bbox = omidb.mark.BoundingBox(x, y, x+w, y+h)\n",
    "    \n",
    "    return out_bbox, img2 # returns bounding box and mask image."
   ]
  },
  {
   "cell_type": "code",
   "execution_count": null,
   "metadata": {},
   "outputs": [],
   "source": [
    "def crop_images(image, aux_folder):\n",
    "    bbox,mask = get_normal_BBox(image)\n",
    "    image_crop = image[bbox.y1:bbox.y2,bbox.x1:bbox.x2]\n",
    "    cv2.imwrite(aux_folder,image_crop)\n",
    "    \n",
    "    return bbox"
   ]
  },
  {
   "cell_type": "code",
   "execution_count": null,
   "metadata": {},
   "outputs": [],
   "source": [
    "df_contralateral = pd.read_csv(csv_path)\n",
    "df_contralateral['bbox'] = None\n",
    "for idx, row in df_contralateral.iterrows():\n",
    "        output_image_path = os.path.join(output_path, row['filename'])\n",
    "\n",
    "        filename = os.path.join(reading_path, row['filename'])\n",
    "        img = cv2.imread(filename, cv2.IMREAD_GRAYSCALE)\n",
    "        image = np.uint8(img)\n",
    "        crop_bbox = crop_images(image, output_image_path)\n",
    "        df_contralateral.at[idx, 'bbox'] = crop_bbox\n",
    "df_contralateral.to_csv(\"cropped_contralateral_case.csv\",index=False)"
   ]
  }
 ],
 "metadata": {
  "kernelspec": {
   "display_name": "habtamukernel",
   "language": "python",
   "name": "habtamukernel"
  },
  "language_info": {
   "codemirror_mode": {
    "name": "ipython",
    "version": 3
   },
   "file_extension": ".py",
   "mimetype": "text/x-python",
   "name": "python",
   "nbconvert_exporter": "python",
   "pygments_lexer": "ipython3",
   "version": "3.10.9"
  },
  "orig_nbformat": 4
 },
 "nbformat": 4,
 "nbformat_minor": 2
}
