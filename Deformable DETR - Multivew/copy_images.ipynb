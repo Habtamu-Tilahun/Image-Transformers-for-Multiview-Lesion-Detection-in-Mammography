{
 "cells": [
  {
   "cell_type": "code",
   "execution_count": 1,
   "metadata": {},
   "outputs": [],
   "source": [
    "import pandas as pd\n",
    "import shutil\n",
    "import os"
   ]
  },
  {
   "cell_type": "code",
   "execution_count": 2,
   "metadata": {},
   "outputs": [],
   "source": [
    "def copy_images(img_dir, dest_folder):\n",
    "    csv_file = os.path.join(\"/home/habtamu/Mammogram_Registration_Four_Resolution/transformed_lesion_validation_set.csv\")\n",
    "    df = pd.read_csv(csv_file)\n",
    "    for idx, row in df.iterrows():\n",
    "        filename = os.path.join(img_dir, row[\"filename\"])\n",
    "        shutil.copy(filename, dest_folder)"
   ]
  },
  {
   "cell_type": "code",
   "execution_count": 3,
   "metadata": {},
   "outputs": [],
   "source": [
    "copy_images('stacked_without_difference_image', 'Dataset/validation_images')"
   ]
  }
 ],
 "metadata": {
  "kernelspec": {
   "display_name": "habtamukernel",
   "language": "python",
   "name": "habtamukernel"
  },
  "language_info": {
   "codemirror_mode": {
    "name": "ipython",
    "version": 3
   },
   "file_extension": ".py",
   "mimetype": "text/x-python",
   "name": "python",
   "nbconvert_exporter": "python",
   "pygments_lexer": "ipython3",
   "version": "3.10.9"
  },
  "orig_nbformat": 4
 },
 "nbformat": 4,
 "nbformat_minor": 2
}
