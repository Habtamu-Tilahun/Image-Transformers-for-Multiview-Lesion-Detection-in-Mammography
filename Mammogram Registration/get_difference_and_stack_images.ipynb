{
 "cells": [
  {
   "cell_type": "code",
   "execution_count": 1,
   "metadata": {},
   "outputs": [],
   "source": [
    "import pandas as pd\n",
    "import os\n",
    "import numpy as np\n",
    "import cv2"
   ]
  },
  {
   "attachments": {},
   "cell_type": "markdown",
   "metadata": {},
   "source": [
    "Get difference image (fixed image - registered image or right - registered left)"
   ]
  },
  {
   "cell_type": "code",
   "execution_count": null,
   "metadata": {},
   "outputs": [],
   "source": [
    "df_lesion = pd.read_csv('/home/habtamu/Analyze_Mammograms_for_Registration/lesion_case.csv')\n",
    "df_contralateral = pd.read_csv('/home/habtamu/Analyze_Mammograms_for_Registration/cropped_contralateral_case.csv')\n",
    "\n",
    "for idx_lesion, row_lesion in df_lesion.iterrows():\n",
    "    for idx_contralateral, row_contralateral in df_contralateral.iterrows():\n",
    "        if row_lesion['client'] == row_contralateral['client_id'] and row_lesion['side'] != row_contralateral['image_laterality'] and row_lesion['view_position'] == row_contralateral['view_position']:\n",
    "            lesion_image_path = os.path.join(\"/home/robert/data/mammo/iceberg_selection/HOLOGIC/ffdm/st\"+\"{0:03}\".format(row_lesion[\"subtype\"]), row_lesion['filename'])\n",
    "            contralateral_image_path = os.path.join('/home/habtamu/Analyze_Mammograms_for_Registration/cropped_contralateral_images', row_contralateral['filename'])\n",
    "            splitted_lesion_image_path = row_lesion['filename'].split('.png')\n",
    "            registered_image_path = os.path.join('registered_images', splitted_lesion_image_path[0] + '_' + row_contralateral['filename'])\n",
    "            subtracted_image_path = os.path.join('subtracted_images', splitted_lesion_image_path[0] + '_' + row_contralateral['filename'])\n",
    "\n",
    "            if row_lesion['side'] == 'R':\n",
    "                fixed_image = cv2.imread(lesion_image_path)\n",
    "            else:\n",
    "                fixed_image = cv2.imread(contralateral_image_path)\n",
    "            registered_image = cv2.imread(registered_image_path)\n",
    "            \n",
    "            # subtract the images\n",
    "            subtracted = cv2.subtract(fixed_image, registered_image)\n",
    "            \n",
    "            # save the subtracted image\n",
    "            cv2.imwrite(subtracted_image_path, subtracted)"
   ]
  },
  {
   "attachments": {},
   "cell_type": "markdown",
   "metadata": {},
   "source": [
    "Merge/Stack Right, Registered-Left, and Difference Images"
   ]
  },
  {
   "cell_type": "code",
   "execution_count": null,
   "metadata": {},
   "outputs": [],
   "source": [
    "df_lesion = pd.read_csv('/home/habtamu/Analyze_Mammograms_for_Registration/lesion_case.csv')\n",
    "df_contralateral = pd.read_csv('/home/habtamu/Analyze_Mammograms_for_Registration/cropped_contralateral_case.csv')\n",
    "\n",
    "for idx_lesion, row_lesion in df_lesion.iterrows():\n",
    "    for idx_contralateral, row_contralateral in df_contralateral.iterrows():\n",
    "        if row_lesion['client'] == row_contralateral['client_id'] and row_lesion['side'] != row_contralateral['image_laterality'] and row_lesion['view_position'] == row_contralateral['view_position']:\n",
    "            lesion_image_path = os.path.join(\"/home/robert/data/mammo/iceberg_selection/HOLOGIC/ffdm/st\"+\"{0:03}\".format(row_lesion[\"subtype\"]), row_lesion['filename'])\n",
    "            contralateral_image_path = os.path.join('/home/habtamu/Analyze_Mammograms_for_Registration/cropped_contralateral_images', row_contralateral['filename'])\n",
    "            splitted_lesion_image_path = row_lesion['filename'].split('.png')\n",
    "            registered_image_path = os.path.join('registered_images', splitted_lesion_image_path[0] + '_' + row_contralateral['filename'])\n",
    "            difference_image_path = os.path.join('subtracted_images', splitted_lesion_image_path[0] + '_' + row_contralateral['filename'])\n",
    "            stacked_image_path = os.path.join('stacked_images', row_lesion['filename'])\n",
    "\n",
    "            # Load the grayscale images\n",
    "            if row_lesion['side'] == 'R':\n",
    "                right_image = cv2.imread(lesion_image_path, cv2.IMREAD_GRAYSCALE)\n",
    "            else:\n",
    "                right_image = cv2.imread(contralateral_image_path, cv2.IMREAD_GRAYSCALE)\n",
    "            left_image = cv2.imread(registered_image_path, cv2.IMREAD_GRAYSCALE)\n",
    "            difference_image = cv2.imread(difference_image_path, cv2.IMREAD_GRAYSCALE)\n",
    "            \n",
    "            # Stack the images\n",
    "            merged_image = cv2.merge((right_image, left_image, difference_image)) \n",
    "            \n",
    "            # Save the resulting image\n",
    "            cv2.imwrite(stacked_image_path, merged_image)"
   ]
  }
 ],
 "metadata": {
  "kernelspec": {
   "display_name": "habtamukernel",
   "language": "python",
   "name": "habtamukernel"
  },
  "language_info": {
   "codemirror_mode": {
    "name": "ipython",
    "version": 3
   },
   "file_extension": ".py",
   "mimetype": "text/x-python",
   "name": "python",
   "nbconvert_exporter": "python",
   "pygments_lexer": "ipython3",
   "version": "3.10.9"
  },
  "orig_nbformat": 4
 },
 "nbformat": 4,
 "nbformat_minor": 2
}
